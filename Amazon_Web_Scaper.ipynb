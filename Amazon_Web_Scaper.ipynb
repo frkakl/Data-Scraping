{
 "cells": [
  {
   "cell_type": "code",
   "execution_count": 5,
   "metadata": {},
   "outputs": [],
   "source": [
    "# Importing libraries\n",
    "\n",
    "from bs4 import BeautifulSoup\n",
    "import requests\n",
    "import smtplib\n",
    "import time\n",
    "import datetime\n",
    "import csv\n",
    "import pandas as pd"
   ]
  },
  {
   "cell_type": "code",
   "execution_count": 6,
   "metadata": {},
   "outputs": [
    {
     "name": "stdout",
     "output_type": "stream",
     "text": [
      "\n",
      "            MSI VGA GEFORCE RTX 3080 VENTUS 3X PLUS 10G OC LHR RTX3080 10GB GDDR6X 320B DX12 PCIE 4.0 X16 (3XDP 1XHDMI)\n",
      "           \n",
      "\n",
      "\n",
      "\n",
      "\n",
      "\n",
      "             17.741,00TL\n",
      "            \n",
      "\n",
      "\n",
      "              17.741\n",
      "              \n",
      "               ,\n",
      "              \n",
      "\n",
      "\n",
      "              00\n",
      "             \n",
      "\n",
      "              TL\n",
      "             \n",
      "\n",
      "\n",
      "\n",
      "\n",
      "\n",
      "\n",
      "\n",
      "\n",
      "\n",
      "\n",
      "\n",
      "\n"
     ]
    }
   ],
   "source": [
    "# Connecting to Website\n",
    "\n",
    "URL = \"https://www.amazon.com.tr/MSI-GeForce-VENTUS-Grafik-Kart%C4%B1/dp/B09G35KBPF/ref=sr_1_6?keywords=rtx+3080&qid=1666454632&qu=eyJxc2MiOiI3LjA0IiwicXNhIjoiNS45OCIsInFzcCI6IjQuODQifQ%3D%3D&sr=8-6\"\n",
    "\n",
    "headers = {\"User-Agent\": \"Mozilla/5.0 (Windows NT 10.0; Win64; x64) AppleWebKit/537.36 (KHTML, like Gecko) Chrome/106.0.0.0 Safari/537.36 Edg/106.0.1370.52\", \"Accept-Encoding\": \"gzip, deflate, br\", \"Accept\": \"text/html,application/xhtml+xml,application/xml;q=0.9,image/webp,image/apng,*/*;q=0.8,application/signed-exchange;v=b3;q=0.9\", \"Dnt\": \"1\", \"Connection\":\"Close\", \"Upgrade-Insecure-Requests\":\"1\"}\n",
    "\n",
    "page = requests.get(URL, headers = headers)\n",
    "\n",
    "soup = BeautifulSoup(page.content, \"html.parser\")\n",
    "\n",
    "soup1 = BeautifulSoup(soup.prettify(), \"html.parser\")\n",
    "\n",
    "title = soup1.find(id=\"productTitle\").getText()\n",
    "\n",
    "price = soup1.find(id = \"corePriceDisplay_desktop_feature_div\").getText()\n",
    "\n",
    "print(title)\n",
    "print(price)\n",
    "\n"
   ]
  },
  {
   "cell_type": "code",
   "execution_count": 8,
   "metadata": {},
   "outputs": [
    {
     "name": "stdout",
     "output_type": "stream",
     "text": [
      "MSI VGA GEFORCE RTX 3080 VENTUS 3X PLUS 10G OC LHR RTX3080 10GB GDDR6X 320B DX12 PCIE 4.0 X16 (3XDP 1XHDMI)\n",
      "17.741,00TL\n"
     ]
    }
   ],
   "source": [
    "title = title.strip()\n",
    "price = price.strip()[:11]\n",
    "\n",
    "print(title)\n",
    "print(price)\n"
   ]
  },
  {
   "cell_type": "code",
   "execution_count": 10,
   "metadata": {},
   "outputs": [
    {
     "name": "stdout",
     "output_type": "stream",
     "text": [
      "2022-10-22\n"
     ]
    }
   ],
   "source": [
    "today = datetime.date.today()\n",
    "\n",
    "print(today)"
   ]
  },
  {
   "cell_type": "code",
   "execution_count": 13,
   "metadata": {},
   "outputs": [],
   "source": [
    "headers = [\"Title\", \"Price\", \"Date\"]\n",
    "data = [title, price, today]\n",
    "\n",
    "\n",
    "with open(\"Amazon_Scraped_Dataset.csv\", \"w\", newline=\"\\n\", encoding=\"UTF8\") as f:\n",
    "    writer = csv.writer(f)\n",
    "    writer.writerow(headers)\n",
    "    writer.writerow(data)\n"
   ]
  },
  {
   "cell_type": "code",
   "execution_count": 21,
   "metadata": {},
   "outputs": [
    {
     "name": "stdout",
     "output_type": "stream",
     "text": [
      "                                               Title        Price        Date\n",
      "0  MSI VGA GEFORCE RTX 3080 VENTUS 3X PLUS 10G OC...  17.741,00TL  2022-10-22\n",
      "1  MSI VGA GEFORCE RTX 3080 VENTUS 3X PLUS 10G OC...  17.741,00TL  2022-10-22\n",
      "2  MSI VGA GEFORCE RTX 3080 VENTUS 3X PLUS 10G OC...  17.741,00TL  2022-10-22\n"
     ]
    }
   ],
   "source": [
    "df = pd.read_csv(r\"D:\\GitHub\\Data-Scraping\\Amazon_Scraped_Dataset.csv\")\n",
    "print(df)"
   ]
  },
  {
   "cell_type": "code",
   "execution_count": 20,
   "metadata": {},
   "outputs": [],
   "source": [
    "with open(\"Amazon_Scraped_Dataset.csv\", \"a+\", newline=\"\\n\", encoding=\"UTF8\") as f:\n",
    "    writer = csv.writer(f)\n",
    "    writer.writerow(data)\n"
   ]
  }
 ],
 "metadata": {
  "kernelspec": {
   "display_name": "Python 3.10.7 64-bit",
   "language": "python",
   "name": "python3"
  },
  "language_info": {
   "codemirror_mode": {
    "name": "ipython",
    "version": 3
   },
   "file_extension": ".py",
   "mimetype": "text/x-python",
   "name": "python",
   "nbconvert_exporter": "python",
   "pygments_lexer": "ipython3",
   "version": "3.10.8"
  },
  "orig_nbformat": 4,
  "vscode": {
   "interpreter": {
    "hash": "409559fae46d9e0bd8affa90b6b260ea6fd473ca6062bd0a30a8d2befc2c0146"
   }
  }
 },
 "nbformat": 4,
 "nbformat_minor": 2
}
